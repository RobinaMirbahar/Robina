{
 "cells": [
  {
   "cell_type": "markdown",
   "id": "52c6d030",
   "metadata": {
    "papermill": {
     "duration": 0.00175,
     "end_time": "2025-02-26T20:28:46.510423",
     "exception": false,
     "start_time": "2025-02-26T20:28:46.508673",
     "status": "completed"
    },
    "tags": []
   },
   "source": [
    "# 🏀 March Mania 2025 - Starter Notebook\n"
   ]
  },
  {
   "cell_type": "code",
   "execution_count": 1,
   "id": "bcfbd060",
   "metadata": {
    "execution": {
     "iopub.execute_input": "2025-02-26T20:28:46.514063Z",
     "iopub.status.busy": "2025-02-26T20:28:46.513856Z",
     "iopub.status.idle": "2025-02-26T20:28:55.669561Z",
     "shell.execute_reply": "2025-02-26T20:28:55.668560Z"
    },
    "papermill": {
     "duration": 9.159255,
     "end_time": "2025-02-26T20:28:55.671168",
     "exception": false,
     "start_time": "2025-02-26T20:28:46.511913",
     "status": "completed"
    },
    "tags": []
   },
   "outputs": [
    {
     "name": "stdout",
     "output_type": "stream",
     "text": [
      "✅ Submission file created successfully! 🏀\n"
     ]
    }
   ],
   "source": [
    "\n",
    "# 📌 Goal of the Competition:\n",
    "# Predict the probability that the smaller TeamID wins a given matchup\n",
    "# using seed rankings.\n",
    "\n",
    "# ✅ Import Required Libraries\n",
    "import pandas as pd\n",
    "import numpy as np\n",
    "import re\n",
    "\n",
    "# 🏆 Helper Function: Parse Seed Value\n",
    "def parse_seed(seed):\n",
    "    \"\"\"\n",
    "    Extracts numerical seed value from the seed string.\n",
    "    Example: \"W01\" -> 1, \"M16a\" -> 16\n",
    "    \"\"\"\n",
    "    if isinstance(seed, str):\n",
    "        digits = re.sub(r\"\\D\", \"\", seed)  # Remove non-numeric characters\n",
    "        return int(digits) if digits else 16  # Default seed = 16 if missing\n",
    "    return 16\n",
    "\n",
    "# ======================================================================\n",
    "# 1️⃣ Load Seed Data & Add Gender Column\n",
    "# ======================================================================\n",
    "\n",
    "# 📥 Load Tournament Seed Data\n",
    "seed_data = pd.read_csv('/kaggle/input/march-machine-learning-mania-2025/MNCAATourneySeeds.csv')\n",
    "\n",
    "# 🏀 Extract Gender ('M' or 'W') from the Seed column\n",
    "seed_data['Gender'] = seed_data['Seed'].str[0]  # First letter determines gender (M or W)\n",
    "seed_data['Gender'] = seed_data['Gender'].replace({'W': 'W', 'M': 'M'}).fillna('M')  # Default to 'M'\n",
    "\n",
    "# 🎯 Convert Seed Values to Numeric\n",
    "seed_data['Seed'] = seed_data['Seed'].apply(parse_seed)  # Extract numerical seed values\n",
    "\n",
    "# ✅ **At this stage:**\n",
    "# - `Seed` column is now an integer (e.g., W01 → 1, M16a → 16)\n",
    "# - `Gender` column is added (M/F for Men/Women teams)\n",
    "\n",
    "# ======================================================================\n",
    "# 2️⃣ Load Sample Submission for 2025 Matchups\n",
    "# ======================================================================\n",
    "\n",
    "# 📥 Load Sample Submission Data\n",
    "submission = pd.read_csv('/kaggle/input/march-machine-learning-mania-2025/SampleSubmissionStage2.csv')\n",
    "\n",
    "# 🏀 Extract matchup details from ID column (e.g., 2025_1101_1104)\n",
    "sub_pairs = submission['ID'].str.split('_', expand=True)\n",
    "sub_pairs.columns = ['Season', 'TeamID_1', 'TeamID_2']\n",
    "\n",
    "# 🔄 Convert values to integer type for easier processing\n",
    "sub_pairs['Season'] = sub_pairs['Season'].astype(int)\n",
    "sub_pairs['TeamID_1'] = sub_pairs['TeamID_1'].astype(int)\n",
    "sub_pairs['TeamID_2'] = sub_pairs['TeamID_2'].astype(int)\n",
    "\n",
    "# 🏀 Add Gender column (assuming TeamID starting with '1' is Male, else Female)\n",
    "sub_pairs['Gender'] = np.where(sub_pairs['TeamID_1'].astype(str).str.startswith('1'), 'M', 'W')\n",
    "\n",
    "# ✅ **At this stage:**\n",
    "# - We have separated `Season`, `TeamID_1`, `TeamID_2` from the ID column.\n",
    "# - We have added a `Gender` column for filtering men’s and women’s matchups.\n",
    "\n",
    "# ======================================================================\n",
    "# 3️⃣ Add Seed Information & Predictions\n",
    "# ======================================================================\n",
    "\n",
    "# 🎯 **Create a Lookup Table for Team Seeds**\n",
    "# Mapping Seed values based on (Season, Gender, TeamID)\n",
    "seed_lookup = seed_data.set_index(['Season', 'Gender', 'TeamID'])['Seed']\n",
    "\n",
    "# 🔎 **Fetch Seed Values for Each Team**\n",
    "sub_pairs['Seed_1'] = sub_pairs.apply(\n",
    "    lambda x: seed_lookup.get((x['Season'], x['Gender'], x['TeamID_1']), 16), axis=1\n",
    ")\n",
    "sub_pairs['Seed_2'] = sub_pairs.apply(\n",
    "    lambda x: seed_lookup.get((x['Season'], x['Gender'], x['TeamID_2']), 16), axis=1\n",
    ")\n",
    "\n",
    "# 🔢 **Compute Seed Difference**\n",
    "sub_pairs['Seed_Diff'] = sub_pairs['Seed_2'] - sub_pairs['Seed_1']\n",
    "\n",
    "# ✅ **At this stage:**\n",
    "# - `Seed_1` and `Seed_2` are added for each team.\n",
    "# - `Seed_Diff` represents the difference between the two teams.\n",
    "\n",
    "# ======================================================================\n",
    "# 4️⃣ Compute Win Probability\n",
    "# ======================================================================\n",
    "\n",
    "# 🎯 **Use Seed Difference to Predict Win Probability**\n",
    "# Formula: P(win) = 0.5 + (0.03 × Seed Difference)\n",
    "sub_pairs['Pred'] = 0.5 + 0.03 * sub_pairs['Seed_Diff']\n",
    "\n",
    "# 🎯 **Clip Values Between 0.05 and 0.95**\n",
    "sub_pairs['Pred'] = sub_pairs['Pred'].clip(0.05, 0.95)\n",
    "\n",
    "# ✅ **At this stage:**\n",
    "# - Higher-seeded teams (lower seed number) get a **higher probability of winning**.\n",
    "# - Probability is **capped between 5% and 95%**.\n",
    "\n",
    "# ======================================================================\n",
    "# 5️⃣ Final Submission\n",
    "# ======================================================================\n",
    "\n",
    "# 📜 Save Predictions to Submission File\n",
    "submission['Pred'] = sub_pairs['Pred']\n",
    "submission.to_csv('submission.csv', index=False)\n",
    "\n",
    "# ✅ Completion Message\n",
    "print(\"✅ Submission file created successfully! 🏀\")\n"
   ]
  }
 ],
 "metadata": {
  "kaggle": {
   "accelerator": "gpu",
   "dataSources": [
    {
     "databundleVersionId": 11165145,
     "sourceId": 91497,
     "sourceType": "competition"
    }
   ],
   "dockerImageVersionId": 30839,
   "isGpuEnabled": true,
   "isInternetEnabled": true,
   "language": "python",
   "sourceType": "notebook"
  },
  "kernelspec": {
   "display_name": "Python 3",
   "language": "python",
   "name": "python3"
  },
  "language_info": {
   "codemirror_mode": {
    "name": "ipython",
    "version": 3
   },
   "file_extension": ".py",
   "mimetype": "text/x-python",
   "name": "python",
   "nbconvert_exporter": "python",
   "pygments_lexer": "ipython3",
   "version": "3.10.12"
  },
  "papermill": {
   "default_parameters": {},
   "duration": 12.141504,
   "end_time": "2025-02-26T20:28:56.091247",
   "environment_variables": {},
   "exception": null,
   "input_path": "__notebook__.ipynb",
   "output_path": "__notebook__.ipynb",
   "parameters": {},
   "start_time": "2025-02-26T20:28:43.949743",
   "version": "2.6.0"
  }
 },
 "nbformat": 4,
 "nbformat_minor": 5
}
